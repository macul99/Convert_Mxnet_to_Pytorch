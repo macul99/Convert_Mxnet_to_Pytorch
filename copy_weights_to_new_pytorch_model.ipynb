{
 "cells": [
  {
   "cell_type": "code",
   "execution_count": 5,
   "metadata": {},
   "outputs": [],
   "source": [
    "from PIL import Image\n",
    "import numpy as np\n",
    "import torch\n",
    "import imp\n",
    "import sys\n",
    "sys.path.append('/Projects/mk_utils/mklib/utils')\n",
    "sys.path.append('/Projects/mk_utils/mklib/nn/')\n",
    "from tcFaceFeatureExtract import tcFaceFeatureExtract\n",
    "from pthnet.pthresnet import PthResNet"
   ]
  },
  {
   "cell_type": "code",
   "execution_count": 8,
   "metadata": {},
   "outputs": [],
   "source": [
    "import fastai\n",
    "from fastai import *\n",
    "from fastai.vision import *\n",
    "from fastai.callbacks.tensorboard import *\n",
    "from fastai.vision.gan import *\n",
    "from PIL import Image, ImageDraw, ImageFont\n",
    "from PIL import ImageFile"
   ]
  },
  {
   "cell_type": "code",
   "execution_count": 2,
   "metadata": {},
   "outputs": [
    {
     "data": {
      "text/plain": [
       "'1.0.1'"
      ]
     },
     "execution_count": 2,
     "metadata": {},
     "output_type": "execute_result"
    }
   ],
   "source": [
    "torch.__version__"
   ]
  },
  {
   "cell_type": "code",
   "execution_count": 3,
   "metadata": {},
   "outputs": [],
   "source": [
    "extractor_gpu=tcFaceFeatureExtract(model_net='train_7_58_pth_net_gpu.py',model_path='train_7_58_pth_model_gpu.pth', ctx='gpu')"
   ]
  },
  {
   "cell_type": "code",
   "execution_count": 6,
   "metadata": {},
   "outputs": [],
   "source": [
    "myModel = PthResNet(3,112,512,[1,2,5,2],[64, 64, 128, 256, 512],res_ver='v3')"
   ]
  },
  {
   "cell_type": "code",
   "execution_count": 35,
   "metadata": {},
   "outputs": [],
   "source": [
    "torch.save(myModel.cpu().state_dict(), '/Projects/test.pth')"
   ]
  },
  {
   "cell_type": "code",
   "execution_count": 15,
   "metadata": {},
   "outputs": [
    {
     "name": "stdout",
     "output_type": "stream",
     "text": [
      "OrderedDict()\n"
     ]
    }
   ],
   "source": [
    "print(myModel.cpu().state_dict())"
   ]
  },
  {
   "cell_type": "code",
   "execution_count": 16,
   "metadata": {},
   "outputs": [],
   "source": [
    "model=torch.load('/Projects/test.pth')"
   ]
  },
  {
   "cell_type": "code",
   "execution_count": 18,
   "metadata": {},
   "outputs": [
    {
     "data": {
      "text/plain": [
       "odict_keys([])"
      ]
     },
     "execution_count": 18,
     "metadata": {},
     "output_type": "execute_result"
    }
   ],
   "source": [
    "model.keys()"
   ]
  },
  {
   "cell_type": "code",
   "execution_count": 10,
   "metadata": {},
   "outputs": [],
   "source": [
    "y,z=myModel(x)"
   ]
  },
  {
   "cell_type": "code",
   "execution_count": 11,
   "metadata": {},
   "outputs": [
    {
     "data": {
      "text/plain": [
       "torch.Size([10, 512])"
      ]
     },
     "execution_count": 11,
     "metadata": {},
     "output_type": "execute_result"
    }
   ],
   "source": [
    "y.size()"
   ]
  },
  {
   "cell_type": "code",
   "execution_count": 12,
   "metadata": {},
   "outputs": [
    {
     "data": {
      "text/plain": [
       "torch.Size([10, 512, 7, 7])"
      ]
     },
     "execution_count": 12,
     "metadata": {},
     "output_type": "execute_result"
    }
   ],
   "source": [
    "z.size()"
   ]
  },
  {
   "cell_type": "code",
   "execution_count": 50,
   "metadata": {},
   "outputs": [],
   "source": [
    "def recurse(func:Callable, x:Any, *args, **kwargs)->Any:\n",
    "    if is_listy(x): return [recurse(func, o, *args, **kwargs) for o in x]\n",
    "    if is_dict(x):  return {k: recurse(func, v, *args, **kwargs) for k,v in x.items()}\n",
    "    return func(x, *args, **kwargs)"
   ]
  },
  {
   "cell_type": "code",
   "execution_count": 45,
   "metadata": {},
   "outputs": [
    {
     "data": {
      "text/plain": [
       "True"
      ]
     },
     "execution_count": 45,
     "metadata": {},
     "output_type": "execute_result"
    }
   ],
   "source": [
    "is_listy(list(myModel.children()))"
   ]
  },
  {
   "cell_type": "code",
   "execution_count": 49,
   "metadata": {},
   "outputs": [
    {
     "data": {
      "text/plain": [
       "[]"
      ]
     },
     "execution_count": 49,
     "metadata": {},
     "output_type": "execute_result"
    }
   ],
   "source": [
    "list(list(myModel.children())[0][0].children())"
   ]
  },
  {
   "cell_type": "code",
   "execution_count": 34,
   "metadata": {},
   "outputs": [
    {
     "data": {
      "text/plain": [
       "tensor([0., 0., 0., 0., 0., 0., 0., 0., 0., 0., 0., 0., 0., 0., 0., 0., 0., 0., 0., 0., 0., 0., 0., 0.,\n",
       "        0., 0., 0., 0., 0., 0., 0., 0., 0., 0., 0., 0., 0., 0., 0., 0., 0., 0., 0., 0., 0., 0., 0., 0.,\n",
       "        0., 0., 0., 0., 0., 0., 0., 0., 0., 0., 0., 0., 0., 0., 0., 0.])"
      ]
     },
     "execution_count": 34,
     "metadata": {},
     "output_type": "execute_result"
    }
   ],
   "source": [
    "flt_model[1].weight.data.fill_(0)"
   ]
  },
  {
   "cell_type": "code",
   "execution_count": 35,
   "metadata": {},
   "outputs": [
    {
     "data": {
      "text/plain": [
       "tensor([0., 0., 0., 0., 0., 0., 0., 0., 0., 0., 0., 0., 0., 0., 0., 0., 0., 0., 0., 0., 0., 0., 0., 0.,\n",
       "        0., 0., 0., 0., 0., 0., 0., 0., 0., 0., 0., 0., 0., 0., 0., 0., 0., 0., 0., 0., 0., 0., 0., 0.,\n",
       "        0., 0., 0., 0., 0., 0., 0., 0., 0., 0., 0., 0., 0., 0., 0., 0.])"
      ]
     },
     "execution_count": 35,
     "metadata": {},
     "output_type": "execute_result"
    }
   ],
   "source": [
    "list(myModel.children())[0][1].state_dict()['weight']"
   ]
  },
  {
   "cell_type": "code",
   "execution_count": 9,
   "metadata": {},
   "outputs": [],
   "source": [
    "# the file should only keep layers with training parameters\n",
    "def get_layer_name_for_weight_copy(file_name):\n",
    "    layer_name = []\n",
    "    with open(file_name,'r') as f:\n",
    "        for line in f.readlines():\n",
    "            line=line.strip().split('=')[0].strip()\n",
    "            if len(line):\n",
    "                layer_name += [line]\n",
    "    #print(layer_name)\n",
    "    return layer_name"
   ]
  },
  {
   "cell_type": "code",
   "execution_count": 10,
   "metadata": {},
   "outputs": [],
   "source": [
    "# copy weights from .npy file to pytorch model, .npy file can be generated from mmdnn from mxnet model\n",
    "# currently only support conv2d, batchnorm1d, batchnorm2d, prelu, linear\n",
    "def copy_weights_to_pytorch_model(model, npy_file, layer_name_file):\n",
    "    flt_model = fastai.torch_core.flatten_model(model)\n",
    "    layer_names = get_layer_name_for_weight_copy(layer_name_file)    \n",
    "    weights_dict = np.load(npy_file).item()\n",
    "    layer_name_id = 0\n",
    "    for layer in flt_model:\n",
    "        print(layer_names[layer_name_id])\n",
    "        if isinstance(layer,nn.Conv2d):\n",
    "            name = layer_names[layer_name_id]\n",
    "            layer.state_dict()['weight'].copy_(torch.from_numpy(weights_dict[name]['weights']))\n",
    "            if 'bias' in weights_dict[name]:\n",
    "                layer.state_dict()['bias'].copy_(torch.from_numpy(weights_dict[name]['bias']))\n",
    "            layer_name_id += 1\n",
    "        elif isinstance(layer,nn.BatchNorm1d) or isinstance(layer,nn.BatchNorm2d):\n",
    "            name = layer_names[layer_name_id]\n",
    "            if 'scale' in weights_dict[name]:                \n",
    "                layer.state_dict()['weight'].copy_(torch.from_numpy(weights_dict[name]['scale']))\n",
    "            else:\n",
    "                layer.weight.data.fill_(1)\n",
    "            if 'bias' in weights_dict[name]:\n",
    "                layer.state_dict()['bias'].copy_(torch.from_numpy(weights_dict[name]['bias']))\n",
    "            else:\n",
    "                layer.bias.data.fill_(0)\n",
    "            layer.state_dict()['running_mean'].copy_(torch.from_numpy(weights_dict[name]['mean']))\n",
    "            layer.state_dict()['running_var'].copy_(torch.from_numpy(weights_dict[name]['var']))\n",
    "            layer_name_id += 1\n",
    "        elif isinstance(layer,nn.PReLU):\n",
    "            name = layer_names[layer_name_id]\n",
    "            layer.state_dict()['weight'].copy_(torch.from_numpy(weights_dict[name]['weights']))\n",
    "            layer_name_id += 1\n",
    "        elif isinstance(layer,nn.Linear):\n",
    "            name = layer_names[layer_name_id]\n",
    "            layer.state_dict()['weight'].copy_(torch.from_numpy(weights_dict[name]['weights']))\n",
    "            if 'bias' in weights_dict[name]:\n",
    "                layer.state_dict()['bias'].copy_(torch.from_numpy(weights_dict[name]['bias']))\n",
    "            layer_name_id += 1\n",
    "    assert layer_name_id == len(layer_names)\n",
    "    return model"
   ]
  },
  {
   "cell_type": "code",
   "execution_count": 11,
   "metadata": {},
   "outputs": [
    {
     "name": "stdout",
     "output_type": "stream",
     "text": [
      "stem_conv1\n",
      "stem_bn2\n",
      "stem_relu1\n",
      "stage1_unit1_bn1\n",
      "stage1_unit1_convr\n",
      "stage1_unit1_bnr\n",
      "stage1_unit1_conv1\n",
      "stage1_unit1_bn2\n",
      "stage1_unit1_prelu2\n",
      "stage1_unit1_conv2\n",
      "stage1_unit1_bn4\n",
      "stage2_unit1_bn1\n",
      "stage2_unit1_convr\n",
      "stage2_unit1_bnr\n",
      "stage2_unit1_conv1\n",
      "stage2_unit1_bn2\n",
      "stage2_unit1_prelu2\n",
      "stage2_unit1_conv2\n",
      "stage2_unit1_bn4\n",
      "stage2_unit2_bn1\n",
      "stage2_unit2_conv1\n",
      "stage2_unit2_bn2\n",
      "stage2_unit2_prelu2\n",
      "stage2_unit2_conv2\n",
      "stage2_unit2_bn4\n",
      "stage3_unit1_bn1\n",
      "stage3_unit1_convr\n",
      "stage3_unit1_bnr\n",
      "stage3_unit1_conv1\n",
      "stage3_unit1_bn2\n",
      "stage3_unit1_prelu2\n",
      "stage3_unit1_conv2\n",
      "stage3_unit1_bn4\n",
      "stage3_unit2_bn1\n",
      "stage3_unit2_conv1\n",
      "stage3_unit2_bn2\n",
      "stage3_unit2_prelu2\n",
      "stage3_unit2_conv2\n",
      "stage3_unit2_bn4\n",
      "stage3_unit3_bn1\n",
      "stage3_unit3_conv1\n",
      "stage3_unit3_bn2\n",
      "stage3_unit3_prelu2\n",
      "stage3_unit3_conv2\n",
      "stage3_unit3_bn4\n",
      "stage3_unit4_bn1\n",
      "stage3_unit4_conv1\n",
      "stage3_unit4_bn2\n",
      "stage3_unit4_prelu2\n",
      "stage3_unit4_conv2\n",
      "stage3_unit4_bn4\n",
      "stage3_unit5_bn1\n",
      "stage3_unit5_conv1\n",
      "stage3_unit5_bn2\n",
      "stage3_unit5_prelu2\n",
      "stage3_unit5_conv2\n",
      "stage3_unit5_bn4\n",
      "stage4_unit1_bn1\n",
      "stage4_unit1_convr\n",
      "stage4_unit1_bnr\n",
      "stage4_unit1_conv1\n",
      "stage4_unit1_bn2\n",
      "stage4_unit1_prelu2\n",
      "stage4_unit1_conv2\n",
      "stage4_unit1_bn4\n",
      "stage4_unit2_bn1\n",
      "stage4_unit2_conv1\n",
      "stage4_unit2_bn2\n",
      "stage4_unit2_prelu2\n",
      "stage4_unit2_conv2\n",
      "stage4_unit2_bn4\n",
      "out_bn2\n",
      "out_relu2\n",
      "out_conv1\n",
      "out_bn3\n",
      "out_fc1\n",
      "out_fc1\n",
      "out_fc1\n",
      "out_embedding\n"
     ]
    }
   ],
   "source": [
    "newModel = copy_weights_to_pytorch_model(myModel,'train_7_58_pth_wt_gpu.npy','FaceRecog_Resnet20_LayerName.txt')"
   ]
  },
  {
   "cell_type": "code",
   "execution_count": 12,
   "metadata": {},
   "outputs": [],
   "source": [
    "torch.save(newModel.cpu(), 'Pytorch_NewModel.pth')"
   ]
  },
  {
   "cell_type": "code",
   "execution_count": 27,
   "metadata": {},
   "outputs": [],
   "source": [
    "import numpy as np\n",
    "x=torch.from_numpy(np.zeros((1,3,112,112)).astype(np.float32))"
   ]
  },
  {
   "cell_type": "code",
   "execution_count": 28,
   "metadata": {},
   "outputs": [],
   "source": [
    "y1=extractor_gpu.model(x.cuda())"
   ]
  },
  {
   "cell_type": "code",
   "execution_count": 29,
   "metadata": {},
   "outputs": [],
   "source": [
    "nModel = torch.load('Pytorch_NewModel.pth')"
   ]
  },
  {
   "cell_type": "code",
   "execution_count": 30,
   "metadata": {},
   "outputs": [],
   "source": [
    "nModel = nModel.eval()"
   ]
  },
  {
   "cell_type": "code",
   "execution_count": 31,
   "metadata": {},
   "outputs": [],
   "source": [
    "y,z = nModel(x)"
   ]
  },
  {
   "cell_type": "code",
   "execution_count": 32,
   "metadata": {},
   "outputs": [
    {
     "data": {
      "text/plain": [
       "1.44355e-08"
      ]
     },
     "execution_count": 32,
     "metadata": {},
     "output_type": "execute_result"
    }
   ],
   "source": [
    "np.max(np.abs(np.array(y)-np.array(y1.cpu())))"
   ]
  },
  {
   "cell_type": "code",
   "execution_count": 41,
   "metadata": {},
   "outputs": [
    {
     "data": {
      "text/plain": [
       "1.0"
      ]
     },
     "execution_count": 41,
     "metadata": {},
     "output_type": "execute_result"
    }
   ],
   "source": [
    "yp = np.array(y)[0]\n",
    "yp1 = np.array(y1.cpu())[0]\n",
    "yp = yp/np.linalg.norm(yp)\n",
    "yp1 = yp1/np.linalg.norm(yp1)\n",
    "np.dot(yp,yp1)"
   ]
  },
  {
   "cell_type": "code",
   "execution_count": null,
   "metadata": {},
   "outputs": [],
   "source": []
  }
 ],
 "metadata": {
  "kernelspec": {
   "display_name": "Python 3",
   "language": "python",
   "name": "python3"
  },
  "language_info": {
   "codemirror_mode": {
    "name": "ipython",
    "version": 3
   },
   "file_extension": ".py",
   "mimetype": "text/x-python",
   "name": "python",
   "nbconvert_exporter": "python",
   "pygments_lexer": "ipython3",
   "version": "3.6.5"
  }
 },
 "nbformat": 4,
 "nbformat_minor": 2
}
